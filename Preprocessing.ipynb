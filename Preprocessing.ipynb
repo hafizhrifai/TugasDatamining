{
 "cells": [
  {
   "cell_type": "code",
   "execution_count": 37,
   "metadata": {},
   "outputs": [],
   "source": [
    "#import library\n",
    "import numpy as np\n",
    "import matplotlib.pyplot as plt\n",
    "import pandas as pd"
   ]
  },
  {
   "cell_type": "code",
   "execution_count": 38,
   "metadata": {},
   "outputs": [],
   "source": [
    "dataset = pd.read_csv('Data.csv')\n",
    "X = dataset.iloc[:, :-1].values\n",
    "Y = dataset.iloc[:, -1].values"
   ]
  },
  {
   "cell_type": "code",
   "execution_count": 39,
   "metadata": {},
   "outputs": [
    {
     "name": "stdout",
     "output_type": "stream",
     "text": [
      "[['Jakarta' 40.0 4416186.0]\n",
      " ['Semarang' 30.0 2810025.0]\n",
      " ['Denpasar' 30.0 2494000.0]\n",
      " ['Jakarta' nan 2013810.0]\n",
      " ['Semarang' 40.0 4300470.0]\n",
      " ['Denpasar' 39.0 3742276.0]\n",
      " ['Jakarta' 30.0 2069530.0]\n",
      " ['Semarang' 28.0 4782935.0]\n",
      " ['Denpasar' 39.0 4798312.0]\n",
      " ['Jakarta' 35.0 nan]]\n"
     ]
    }
   ],
   "source": [
    "print(X)"
   ]
  },
  {
   "cell_type": "code",
   "execution_count": 40,
   "metadata": {},
   "outputs": [
    {
     "name": "stdout",
     "output_type": "stream",
     "text": [
      "['Yes;;' 'No;;' 'No;;' 'Yes;;' 'No;;' 'Yes;;' 'No;;' 'Yes;;' 'No;;'\n",
      " 'Yes;;']\n"
     ]
    }
   ],
   "source": [
    "print(Y)"
   ]
  },
  {
   "cell_type": "code",
   "execution_count": 41,
   "metadata": {},
   "outputs": [],
   "source": [
    "from sklearn.impute import SimpleImputer\n",
    "imputer = SimpleImputer(missing_values=np.nan, strategy='mean')\n",
    "imputer.fit(X[:, 1:3])\n",
    "X[:, 1:3] = imputer.transform(X[:, 1:3])"
   ]
  },
  {
   "cell_type": "code",
   "execution_count": 43,
   "metadata": {},
   "outputs": [
    {
     "name": "stdout",
     "output_type": "stream",
     "text": [
      "[['Jakarta' 40.0 4416186.0]\n",
      " ['Semarang' 30.0 2810025.0]\n",
      " ['Denpasar' 30.0 2494000.0]\n",
      " ['Jakarta' 34.55555555555556 2013810.0]\n",
      " ['Semarang' 40.0 4300470.0]\n",
      " ['Denpasar' 39.0 3742276.0]\n",
      " ['Jakarta' 30.0 2069530.0]\n",
      " ['Semarang' 28.0 4782935.0]\n",
      " ['Denpasar' 39.0 4798312.0]\n",
      " ['Jakarta' 35.0 3491949.3333333335]]\n"
     ]
    }
   ],
   "source": [
    "print(X)"
   ]
  },
  {
   "cell_type": "code",
   "execution_count": 46,
   "metadata": {},
   "outputs": [],
   "source": [
    "from sklearn.compose import ColumnTransformer\n",
    "from sklearn.preprocessing import OneHotEncoder\n",
    "ct = ColumnTransformer(transformers=[('encoder',OneHotEncoder(), [0])], remainder='passthrough')\n",
    "X = np.array(ct.fit_transform(X))"
   ]
  },
  {
   "cell_type": "code",
   "execution_count": 47,
   "metadata": {},
   "outputs": [
    {
     "name": "stdout",
     "output_type": "stream",
     "text": [
      "[[0.0 1.0 0.0 40.0 4416186.0]\n",
      " [0.0 0.0 1.0 30.0 2810025.0]\n",
      " [1.0 0.0 0.0 30.0 2494000.0]\n",
      " [0.0 1.0 0.0 34.55555555555556 2013810.0]\n",
      " [0.0 0.0 1.0 40.0 4300470.0]\n",
      " [1.0 0.0 0.0 39.0 3742276.0]\n",
      " [0.0 1.0 0.0 30.0 2069530.0]\n",
      " [0.0 0.0 1.0 28.0 4782935.0]\n",
      " [1.0 0.0 0.0 39.0 4798312.0]\n",
      " [0.0 1.0 0.0 35.0 3491949.3333333335]]\n"
     ]
    }
   ],
   "source": [
    "print(X)"
   ]
  },
  {
   "cell_type": "code",
   "execution_count": 48,
   "metadata": {},
   "outputs": [],
   "source": [
    "from sklearn.preprocessing import LabelEncoder\n",
    "le = LabelEncoder()\n",
    "Y = le.fit_transform(Y)"
   ]
  },
  {
   "cell_type": "code",
   "execution_count": 49,
   "metadata": {},
   "outputs": [
    {
     "name": "stdout",
     "output_type": "stream",
     "text": [
      "[1 0 0 1 0 1 0 1 0 1]\n"
     ]
    }
   ],
   "source": [
    "print(Y)"
   ]
  },
  {
   "cell_type": "code",
   "execution_count": 53,
   "metadata": {},
   "outputs": [],
   "source": [
    "from sklearn.model_selection import train_test_split\n",
    "X_train, X_test, Y_train, Y_test = train_test_split(X, Y, test_size=0.2, random_state = 1)"
   ]
  },
  {
   "cell_type": "code",
   "execution_count": 54,
   "metadata": {},
   "outputs": [
    {
     "name": "stdout",
     "output_type": "stream",
     "text": [
      "[[0.0 1.0 0.0 30.0 2069530.0]\n",
      " [0.0 0.0 1.0 40.0 4300470.0]\n",
      " [0.0 1.0 0.0 40.0 4416186.0]\n",
      " [0.0 1.0 0.0 34.55555555555556 2013810.0]\n",
      " [0.0 0.0 1.0 30.0 2810025.0]\n",
      " [0.0 0.0 1.0 28.0 4782935.0]\n",
      " [1.0 0.0 0.0 39.0 4798312.0]\n",
      " [1.0 0.0 0.0 39.0 3742276.0]]\n"
     ]
    }
   ],
   "source": [
    "print(X_train)"
   ]
  },
  {
   "cell_type": "code",
   "execution_count": 55,
   "metadata": {},
   "outputs": [
    {
     "name": "stdout",
     "output_type": "stream",
     "text": [
      "[[1.0 0.0 0.0 30.0 2494000.0]\n",
      " [0.0 1.0 0.0 35.0 3491949.3333333335]]\n"
     ]
    }
   ],
   "source": [
    "print(X_test)"
   ]
  },
  {
   "cell_type": "code",
   "execution_count": 56,
   "metadata": {},
   "outputs": [
    {
     "name": "stdout",
     "output_type": "stream",
     "text": [
      "[0 0 1 1 0 1 0 1]\n"
     ]
    }
   ],
   "source": [
    "print(Y_train)"
   ]
  },
  {
   "cell_type": "code",
   "execution_count": 57,
   "metadata": {},
   "outputs": [
    {
     "name": "stdout",
     "output_type": "stream",
     "text": [
      "[0 1]\n"
     ]
    }
   ],
   "source": [
    "print(Y_test)"
   ]
  },
  {
   "cell_type": "code",
   "execution_count": 59,
   "metadata": {},
   "outputs": [],
   "source": [
    "from sklearn.preprocessing import StandardScaler\n",
    "sc = StandardScaler()\n",
    "X_train[:, 3:] = sc.fit_transform(X_train[:, 3:])\n",
    "X_test[:, 3:] = sc.transform(X_test[:, 3:])"
   ]
  },
  {
   "cell_type": "code",
   "execution_count": 60,
   "metadata": {},
   "outputs": [
    {
     "name": "stdout",
     "output_type": "stream",
     "text": [
      "[[0.0 1.0 0.0 -1.0653086744778615 -1.4203337484460457]\n",
      " [0.0 0.0 1.0 1.0361221354510715 0.6277241308842001]\n",
      " [0.0 1.0 0.0 1.0361221354510715 0.7339542695542579]\n",
      " [0.0 1.0 0.0 -0.10799019439912505 -1.4714860811113262]\n",
      " [0.0 0.0 1.0 -1.0653086744778615 -0.7405410963107796]\n",
      " [0.0 0.0 1.0 -1.485594836463648 1.07063888643615]\n",
      " [1.0 0.0 0.0 0.8259790544581781 1.084755351249395]\n",
      " [1.0 0.0 0.0 0.8259790544581781 0.11528828774414832]]\n"
     ]
    }
   ],
   "source": [
    "print(X_train)"
   ]
  },
  {
   "cell_type": "code",
   "execution_count": 61,
   "metadata": {},
   "outputs": [
    {
     "name": "stdout",
     "output_type": "stream",
     "text": [
      "[[1.0 0.0 0.0 -1.0653086744778615 -1.030659831604127]\n",
      " [0.0 1.0 0.0 -0.014593269513395036 -0.1145177590671251]]\n"
     ]
    }
   ],
   "source": [
    "print(X_test)"
   ]
  },
  {
   "cell_type": "code",
   "execution_count": null,
   "metadata": {},
   "outputs": [],
   "source": []
  }
 ],
 "metadata": {
  "kernelspec": {
   "display_name": "Python 3",
   "language": "python",
   "name": "python3"
  },
  "language_info": {
   "codemirror_mode": {
    "name": "ipython",
    "version": 3
   },
   "file_extension": ".py",
   "mimetype": "text/x-python",
   "name": "python",
   "nbconvert_exporter": "python",
   "pygments_lexer": "ipython3",
   "version": "3.8.5"
  }
 },
 "nbformat": 4,
 "nbformat_minor": 4
}
